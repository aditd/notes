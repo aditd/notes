{
 "cells": [
  {
   "cell_type": "markdown",
   "id": "naval-trinidad",
   "metadata": {},
   "source": [
    "## practice for exam"
   ]
  },
  {
   "cell_type": "code",
   "execution_count": null,
   "id": "constant-letters",
   "metadata": {},
   "outputs": [],
   "source": []
  },
  {
   "cell_type": "markdown",
   "id": "exact-nicholas",
   "metadata": {},
   "source": [
    "Empty sequences and 0 numerics have a False value"
   ]
  },
  {
   "cell_type": "code",
   "execution_count": 4,
   "id": "quiet-plasma",
   "metadata": {},
   "outputs": [
    {
     "name": "stdout",
     "output_type": "stream",
     "text": [
      "True\n",
      "False\n",
      "True\n"
     ]
    }
   ],
   "source": [
    "# we can only compare similar objects\n",
    "print(0==0.0)\n",
    "print(bool(''))\n",
    "print(bool('a'))"
   ]
  },
  {
   "cell_type": "markdown",
   "id": "familiar-discrimination",
   "metadata": {},
   "source": [
    "However we can't compare different objects"
   ]
  },
  {
   "cell_type": "code",
   "execution_count": null,
   "id": "spiritual-grave",
   "metadata": {},
   "outputs": [],
   "source": []
  },
  {
   "cell_type": "markdown",
   "id": "ancient-compensation",
   "metadata": {},
   "source": [
    "the precedence of the boolean operations are or, and, not"
   ]
  },
  {
   "cell_type": "code",
   "execution_count": 2,
   "id": "intellectual-amino",
   "metadata": {},
   "outputs": [
    {
     "data": {
      "text/plain": [
       "True"
      ]
     },
     "execution_count": 2,
     "metadata": {},
     "output_type": "execute_result"
    }
   ],
   "source": [
    "True or False and True or False"
   ]
  },
  {
   "cell_type": "markdown",
   "id": "forbidden-wilderness",
   "metadata": {},
   "source": [
    "# Numeric Types"
   ]
  },
  {
   "cell_type": "markdown",
   "id": "unsigned-causing",
   "metadata": {},
   "source": [
    "There is int, float and complex"
   ]
  },
  {
   "cell_type": "code",
   "execution_count": 6,
   "id": "clinical-philippines",
   "metadata": {},
   "outputs": [
    {
     "name": "stdout",
     "output_type": "stream",
     "text": [
      "(3, 1)\n"
     ]
    }
   ],
   "source": [
    "a = 3\n",
    "b = 10\n",
    "# this gives (b//a, b%a)\n",
    "print(divmod(b,a))"
   ]
  },
  {
   "cell_type": "code",
   "execution_count": 31,
   "id": "above-porter",
   "metadata": {},
   "outputs": [
    {
     "name": "stdout",
     "output_type": "stream",
     "text": [
      "1.8712871287128714\n",
      "1.87\n"
     ]
    }
   ],
   "source": [
    "a = 189.00\n",
    "b = 101.00\n",
    "x = a/b\n",
    "print(x)\n",
    "print(round(x,2))"
   ]
  },
  {
   "cell_type": "markdown",
   "id": "collect-scratch",
   "metadata": {},
   "source": [
    "additional methods on integer types"
   ]
  },
  {
   "cell_type": "code",
   "execution_count": 14,
   "id": "integral-baltimore",
   "metadata": {},
   "outputs": [
    {
     "data": {
      "text/plain": [
       "'-0b100101'"
      ]
     },
     "execution_count": 14,
     "metadata": {},
     "output_type": "execute_result"
    }
   ],
   "source": [
    "n = -37\n",
    "bin(n)"
   ]
  },
  {
   "cell_type": "code",
   "execution_count": 15,
   "id": "electrical-dependence",
   "metadata": {},
   "outputs": [
    {
     "data": {
      "text/plain": [
       "6"
      ]
     },
     "execution_count": 15,
     "metadata": {},
     "output_type": "execute_result"
    }
   ],
   "source": [
    "n.bit_length()"
   ]
  },
  {
   "cell_type": "code",
   "execution_count": null,
   "id": "common-harbor",
   "metadata": {},
   "outputs": [],
   "source": [
    "# the two bytes function returns \n",
    "#an array of bytes representing an integer\n",
    "# int.to_bytes(length, byteorder, *, signed=False)\n",
    "(1024).to_bytes(2, byteorder='big')"
   ]
  },
  {
   "cell_type": "markdown",
   "id": "dying-wyoming",
   "metadata": {},
   "source": [
    "int.from_bytes(bytes, byteorder, *, signed=False)\n",
    "return the integer represented by the given array of bytes.\n",
    "The argument bytes must either be an iterable producing bytes\n",
    "or a bytes like object\n",
    "\n",
    "`The signed argument indicates whether two’s complement is used to represent the integer.`"
   ]
  },
  {
   "cell_type": "code",
   "execution_count": 16,
   "id": "filled-probability",
   "metadata": {},
   "outputs": [
    {
     "data": {
      "text/plain": [
       "'0x1.0000000000000p+1'"
      ]
     },
     "execution_count": 16,
     "metadata": {},
     "output_type": "execute_result"
    }
   ],
   "source": [
    "a = 2.00\n",
    "a.hex()\n"
   ]
  },
  {
   "cell_type": "code",
   "execution_count": null,
   "id": "smaller-commonwealth",
   "metadata": {},
   "outputs": [],
   "source": []
  },
  {
   "cell_type": "markdown",
   "id": "royal-midnight",
   "metadata": {},
   "source": [
    "# sequence types\n",
    "the basic types are\n",
    "- tuples\n",
    "- lists\n",
    "- range objects"
   ]
  },
  {
   "cell_type": "markdown",
   "id": "catholic-woman",
   "metadata": {},
   "source": [
    "## Note that items in the sequence s are not \n",
    "## copied, they are referenced multiple times"
   ]
  },
  {
   "cell_type": "code",
   "execution_count": 17,
   "id": "alive-lesson",
   "metadata": {},
   "outputs": [
    {
     "name": "stdout",
     "output_type": "stream",
     "text": [
      "[[], [], []]\n",
      "[[3], [3], [3]]\n"
     ]
    }
   ],
   "source": [
    "lists = [[]] * 3\n",
    "print(lists)\n",
    "lists[0].append(3)\n",
    "print(lists)"
   ]
  },
  {
   "cell_type": "markdown",
   "id": "automotive-meter",
   "metadata": {},
   "source": [
    "What has happened is that [[]] is a one-element list containing an empty list, so all three elements of [[]] * 3 are references to this single empty list."
   ]
  },
  {
   "cell_type": "code",
   "execution_count": 18,
   "id": "turkish-minutes",
   "metadata": {},
   "outputs": [],
   "source": [
    "a = 'somethingidunno'"
   ]
  },
  {
   "cell_type": "code",
   "execution_count": 24,
   "id": "norwegian-decimal",
   "metadata": {},
   "outputs": [
    {
     "name": "stdout",
     "output_type": "stream",
     "text": [
      "ingidun\n",
      "ingidun\n"
     ]
    }
   ],
   "source": [
    "print(a[-9:13])\n",
    "print(a[len(a)-9:13])"
   ]
  },
  {
   "cell_type": "markdown",
   "id": "romance-nomination",
   "metadata": {},
   "source": [
    "If i or j is negative, the index is relative to the end of sequence s: len(s) + i or len(s) + j is substituted. But note that -0 is still 0."
   ]
  },
  {
   "cell_type": "code",
   "execution_count": 29,
   "id": "integrated-missouri",
   "metadata": {},
   "outputs": [
    {
     "data": {
      "text/plain": [
       "'onnudignihtemos'"
      ]
     },
     "execution_count": 29,
     "metadata": {},
     "output_type": "execute_result"
    }
   ],
   "source": [
    "a[::-1]"
   ]
  },
  {
   "cell_type": "markdown",
   "id": "formal-mercury",
   "metadata": {},
   "source": [
    " # concatenating immutable sequences\n",
    " Concatenating immutable sequences always results in a new object. This means that building up a sequence by repeated concatenation will have a quadratic runtime cost in the total sequence length.\n",
    " \n",
    "To get a linear runtime cost, you must switch to one of the alternatives below:\n",
    " - if concatenating str objects, you can build a list and use str.join() at the end or else write to an io.StringIO instance and retrieve its value when complete"
   ]
  },
  {
   "cell_type": "markdown",
   "id": "accepted-increase",
   "metadata": {},
   "source": [
    "# operations on mutable sequences\n",
    "`del s[i:j]`  is the same as `s[i:j] = []`\n",
    "\n",
    "`s.pop([i])` retrieves the item at i and also removes it from s\n",
    "\n"
   ]
  },
  {
   "cell_type": "markdown",
   "id": "judicial-groove",
   "metadata": {},
   "source": [
    "What is an iterable?\n",
    "iterable may be either a sequence, a container that supports iteration, or an iterator object."
   ]
  },
  {
   "cell_type": "code",
   "execution_count": 32,
   "id": "available-chapter",
   "metadata": {},
   "outputs": [
    {
     "data": {
      "text/plain": [
       "True"
      ]
     },
     "execution_count": 32,
     "metadata": {},
     "output_type": "execute_result"
    }
   ],
   "source": [
    "a = dict(one=1, two=2, three=3)\n",
    "b = {'one': 1, 'two': 2, 'three': 3}\n",
    "c = dict(zip(['one', 'two', 'three'], [1, 2, 3]))\n",
    "d = dict([('two', 2), ('one', 1), ('three', 3)])\n",
    "e = dict({'three': 3, 'one': 1, 'two': 2})\n",
    "f = dict({'one': 1, 'three': 3}, two=2)\n",
    "a == b == c == d == e == f"
   ]
  },
  {
   "cell_type": "code",
   "execution_count": 2,
   "id": "urban-medicine",
   "metadata": {},
   "outputs": [
    {
     "data": {
      "text/plain": [
       "[7, 8, 9, 12, 93]"
      ]
     },
     "execution_count": 2,
     "metadata": {},
     "output_type": "execute_result"
    }
   ],
   "source": [
    "my_list = [3, 4, 5,8, 89]\n",
    "list(map(lambda x: x+4, my_list))"
   ]
  },
  {
   "cell_type": "code",
   "execution_count": 2,
   "id": "stuck-strain",
   "metadata": {},
   "outputs": [
    {
     "name": "stdout",
     "output_type": "stream",
     "text": [
      "10\n",
      "6\n",
      "20\n",
      "7\n",
      "6\n",
      "10\n"
     ]
    }
   ],
   "source": [
    "def func(x):\n",
    "    y = 5\n",
    "    z = 10\n",
    "    t = 10\n",
    "    \n",
    "    def g():\n",
    "        #nonlocal y\n",
    "        y += 1\n",
    "        z= 20\n",
    "        print(y)\n",
    "        print(z)\n",
    "    \n",
    "    print(t)\n",
    "    g()\n",
    "    print(x)\n",
    "    print(y)\n",
    "    print(z)\n",
    "\n",
    "func(7)"
   ]
  },
  {
   "cell_type": "code",
   "execution_count": null,
   "id": "local-configuration",
   "metadata": {},
   "outputs": [],
   "source": []
  },
  {
   "cell_type": "markdown",
   "id": "mounted-distinction",
   "metadata": {},
   "source": [
    "late binding"
   ]
  },
  {
   "cell_type": "code",
   "execution_count": 16,
   "id": "ignored-majority",
   "metadata": {},
   "outputs": [
    {
     "data": {
      "text/plain": [
       "80"
      ]
     },
     "execution_count": 16,
     "metadata": {},
     "output_type": "execute_result"
    }
   ],
   "source": [
    "def f(x):\n",
    "    def g(y):\n",
    "        y = y*10\n",
    "        return y\n",
    "    return g\n",
    "    \n",
    "# this returns the function\n",
    "f\n",
    "\n",
    "a = 5\n",
    "b = 1\n",
    "\n",
    "h = f(a)\n",
    "h.__name__\n",
    "h(8)"
   ]
  },
  {
   "cell_type": "code",
   "execution_count": 24,
   "id": "informed-contrary",
   "metadata": {
    "scrolled": true
   },
   "outputs": [
    {
     "name": "stdout",
     "output_type": "stream",
     "text": [
      "1600\n"
     ]
    }
   ],
   "source": [
    "def f(x):\n",
    "    z = 10\n",
    "    \n",
    "    # if this nested functino did not have a local\n",
    "    # variable then it is caled a CLOSED TERM \n",
    "    def g(y):\n",
    "        nonlocal z\n",
    "        z += z\n",
    "        y = y*10\n",
    "        return y * z\n",
    "    return g\n",
    "\n",
    "a = 8\n",
    "b = 1\n",
    "h = f(a)\n",
    "print(h(8))\n"
   ]
  },
  {
   "cell_type": "markdown",
   "id": "wanted-harris",
   "metadata": {},
   "source": [
    "## Closures\n",
    "what is a closure\n",
    "- it is a nested function \n",
    "- the inner function is returned by the enclosing functions \n",
    "- it is an open term - accesses nonlocal (free) variabvle inside\n",
    "its scope"
   ]
  },
  {
   "cell_type": "code",
   "execution_count": 26,
   "id": "viral-designation",
   "metadata": {},
   "outputs": [
    {
     "name": "stdout",
     "output_type": "stream",
     "text": [
      "woah\n",
      "Hello, beep bop... beep bop...\n",
      "Hello, beep bop... beep bop...\n",
      "Hello, beep bop... beep bop...\n"
     ]
    }
   ],
   "source": [
    "def sayHello():\n",
    "    print(\"Hello, beep bop... beep bop...\")\n",
    "\n",
    "#sayHello()\n",
    "#bubble merge and quick\n",
    "# what if i want to call it thrice\n",
    "# then i can create a function that calls sayHello thrice\n",
    "\n",
    "\n",
    "def repeatThrice(any_func):\n",
    "    def caller():\n",
    "        any_func()\n",
    "        any_func()\n",
    "        any_func()\n",
    "    return caller\n",
    "\n",
    "# the decorator is the same as\n",
    "# sayHello = repeatThrice(sayHello)\n",
    "# sayHello()\n",
    "\n",
    "\n",
    "@repeatThrice\n",
    "def sayHello():\n",
    "    print(\"Hello, beep bop... beep bop...\")\n",
    "\n",
    "def sayHelloThrice():\n",
    "    sayHello()\n",
    "    sayHello()\n",
    "    sayHello()\n",
    "#h = repeatThrice(sayHello)\n",
    "\n",
    "print(\"woah\")\n",
    "sayHello()"
   ]
  },
  {
   "cell_type": "markdown",
   "id": "pursuant-painting",
   "metadata": {},
   "source": [
    "# MATHHHHHHHH"
   ]
  },
  {
   "cell_type": "code",
   "execution_count": 1,
   "id": "phantom-freight",
   "metadata": {},
   "outputs": [
    {
     "data": {
      "text/plain": [
       "2.0"
      ]
     },
     "execution_count": 1,
     "metadata": {},
     "output_type": "execute_result"
    }
   ],
   "source": [
    "import math as meth\n",
    "meth.sqrt(4)"
   ]
  },
  {
   "cell_type": "code",
   "execution_count": 3,
   "id": "imposed-angola",
   "metadata": {},
   "outputs": [
    {
     "data": {
      "text/plain": [
       "1.4142135623730951"
      ]
     },
     "execution_count": 3,
     "metadata": {},
     "output_type": "execute_result"
    }
   ],
   "source": [
    "from math import sqrt\n",
    "sqrt(2)"
   ]
  },
  {
   "cell_type": "code",
   "execution_count": 7,
   "id": "approximate-thanks",
   "metadata": {},
   "outputs": [
    {
     "data": {
      "text/plain": [
       "3.14"
      ]
     },
     "execution_count": 7,
     "metadata": {},
     "output_type": "execute_result"
    }
   ],
   "source": [
    "round(meth.pi,2)"
   ]
  },
  {
   "cell_type": "code",
   "execution_count": 10,
   "id": "impaired-finding",
   "metadata": {},
   "outputs": [
    {
     "data": {
      "text/plain": [
       "name    3\n",
       "race    4\n",
       "dtype: int64"
      ]
     },
     "execution_count": 10,
     "metadata": {},
     "output_type": "execute_result"
    }
   ],
   "source": [
    "import pandas as pd\n",
    "\n",
    "x = pd.Series({'name':3,'race':4})\n",
    "x"
   ]
  }
 ],
 "metadata": {
  "kernelspec": {
   "display_name": "Python 3",
   "language": "python",
   "name": "python3"
  },
  "language_info": {
   "codemirror_mode": {
    "name": "ipython",
    "version": 3
   },
   "file_extension": ".py",
   "mimetype": "text/x-python",
   "name": "python",
   "nbconvert_exporter": "python",
   "pygments_lexer": "ipython3",
   "version": "3.8.3"
  }
 },
 "nbformat": 4,
 "nbformat_minor": 5
}
